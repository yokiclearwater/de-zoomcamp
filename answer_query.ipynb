{
 "cells": [
  {
   "cell_type": "markdown",
   "metadata": {},
   "source": [
    "### Question 3. Trip Segmentation Count\n",
    "\n",
    "During the period of October 1st 2019 (inclusive) and November 1st 2019 (exclusive), how many trips, respectively, happened:\n",
    "\n",
    "- Up to 1 mile\n",
    "- In between 1 (exclusive) and 3 miles (inclusive)\n",
    "- In between 3 (exclusive) and 7 miles (inclusive)\n",
    "- In between 7 (exclusive) and 10 miles (inclusive)\n",
    "- Over 10 miles\n",
    "\n",
    "Answers:\n",
    "\n",
    "- 104,802; 197,670; 110,612; 27,831; 35,281\n",
    "- 104,802; 198,924; 109,603; 27,678; 35,189\n",
    "- 104,793; 201,407; 110,612; 27,831; 35,281\n",
    "- 104,793; 202,661; 109,603; 27,678; 35,189\n",
    "- 104,838; 199,013; 109,645; 27,688; 35,202\n"
   ]
  },
  {
   "cell_type": "code",
   "execution_count": null,
   "metadata": {},
   "outputs": [
    {
     "name": "stdout",
     "output_type": "stream",
     "text": [
      "Total records:  104802\n"
     ]
    }
   ],
   "source": [
    "from sqlalchemy import create_engine, text\n",
    "import pandas as pd\n",
    "\n",
    "# Define variables\n",
    "start_date = '2019-10-01'\n",
    "end_date = '2019-11-01'\n",
    "max_trip_distance = 1\n",
    "\n",
    "# Create engine\n",
    "engine = create_engine(\"postgresql://postgres:postgres@db:5432/ny_taxi\")\n",
    "\n",
    "# SQL query with placeholders for variables\n",
    "query = text(\"\"\"\n",
    "    SELECT COUNT(*)\n",
    "    FROM green_taxi_data\n",
    "    WHERE CAST(lpep_dropoff_datetime AS DATE) >= :start_date \n",
    "      AND CAST(lpep_dropoff_datetime AS DATE) < :end_date \n",
    "      AND CAST(lpep_pickup_datetime AS DATE) >= :start_date \n",
    "      AND CAST(lpep_pickup_datetime AS DATE) < :end_date\n",
    "      AND trip_distance <= :max_trip_distance;\n",
    "\"\"\")\n",
    "\n",
    "# Execute the query\n",
    "with engine.connect() as connection:\n",
    "    result = connection.execute(query, {\"start_date\": start_date, \"end_date\": end_date, \"max_trip_distance\": max_trip_distance})\n",
    "    for row in result:\n",
    "        print(\"Total records: \", row[0])\n",
    "\n",
    "query_2 = text(\n",
    "    \"\"\"\n",
    "               SELECT COUNT(*)\n",
    "FROM green_taxi_data\n",
    "WHERE CAST(lpep_dropoff_datetime as DATE) >= '2019-10-01' AND CAST(lpep_dropoff_datetime as DATE) < '2019-11-01' AND CAST(lpep_pickup_datetime as DATE) >= '2019-10-01' AND CAST(lpep_pickup_datetime as DATE) < '2019-11-01' AND trip_distance > 1 AND trip_distance <= 3;\n",
    "\n",
    "\"\"\"\n",
    ")\n",
    "\n",
    "# Close connection\n",
    "connection.close()"
   ]
  },
  {
   "cell_type": "code",
   "execution_count": 9,
   "metadata": {},
   "outputs": [
    {
     "name": "stdout",
     "output_type": "stream",
     "text": [
      "Total records for distance range (1, 3]:  198924\n",
      "Total records for distance range (3, 7]:  109603\n",
      "Total records for distance range (7, 10]:  27678\n"
     ]
    }
   ],
   "source": [
    "# Define distance ranges\n",
    "distance_ranges = [\n",
    "    (1, 3),\n",
    "    (3, 7),\n",
    "    (7, 10)\n",
    "]\n",
    "\n",
    "# Execute queries for each distance range\n",
    "for min_distance, max_distance in distance_ranges:\n",
    "    query = text(\"\"\"\n",
    "        SELECT COUNT(*)\n",
    "        FROM green_taxi_data\n",
    "        WHERE CAST(lpep_dropoff_datetime AS DATE) >= :start_date \n",
    "          AND CAST(lpep_dropoff_datetime AS DATE) < :end_date \n",
    "          AND CAST(lpep_pickup_datetime AS DATE) >= :start_date \n",
    "          AND CAST(lpep_pickup_datetime AS DATE) < :end_date\n",
    "          AND trip_distance > :min_distance \n",
    "          AND trip_distance <= :max_distance;\n",
    "    \"\"\")\n",
    "    \n",
    "    with engine.connect() as connection:\n",
    "        result = connection.execute(query, {\"start_date\": start_date, \"end_date\": end_date, \"min_distance\": min_distance, \"max_distance\": max_distance})\n",
    "        for row in result:\n",
    "            print(f\"Total records for distance range ({min_distance}, {max_distance}]: \", row[0])"
   ]
  },
  {
   "cell_type": "code",
   "execution_count": 11,
   "metadata": {},
   "outputs": [
    {
     "name": "stdout",
     "output_type": "stream",
     "text": [
      "Total records for distance range (10, inf):  35189\n"
     ]
    }
   ],
   "source": [
    "query_5 = text(\n",
    "    \"\"\"\n",
    "    SELECT COUNT(*)\n",
    "    FROM green_taxi_data\n",
    "    WHERE CAST(lpep_dropoff_datetime as DATE) >= :start_date \n",
    "      AND CAST(lpep_dropoff_datetime as DATE) < :end_date \n",
    "      AND CAST(lpep_pickup_datetime as DATE) >= :start_date \n",
    "      AND CAST(lpep_pickup_datetime as DATE) < :end_date \n",
    "      AND trip_distance > :max_distance;\n",
    "    \"\"\"\n",
    ")\n",
    "\n",
    "with engine.connect() as connection:\n",
    "    result = connection.execute(query_5, {\"start_date\": start_date, \"end_date\": end_date, \"max_distance\": 10})\n",
    "    for row in result:\n",
    "        print(\"Total records for distance range (10, inf): \", row[0])\n",
    "        \n",
    "# Close connection\n",
    "connection.close()"
   ]
  },
  {
   "cell_type": "markdown",
   "metadata": {},
   "source": [
    "### Question 4. Longest Trip for Each Day\n",
    "\n",
    "Which was the pick-up day with the longest trip distance? Use the pick-up time for your calculations.\n",
    "\n",
    "**Tip:** For every day, we only care about one single trip with the longest distance.\n",
    "\n",
    "- 2019-10-11\n",
    "- 2019-10-24\n",
    "- 2019-10-26\n",
    "- 2019-10-31\n"
   ]
  },
  {
   "cell_type": "code",
   "execution_count": 16,
   "metadata": {},
   "outputs": [
    {
     "data": {
      "text/html": [
       "<div>\n",
       "<style scoped>\n",
       "    .dataframe tbody tr th:only-of-type {\n",
       "        vertical-align: middle;\n",
       "    }\n",
       "\n",
       "    .dataframe tbody tr th {\n",
       "        vertical-align: top;\n",
       "    }\n",
       "\n",
       "    .dataframe thead th {\n",
       "        text-align: right;\n",
       "    }\n",
       "</style>\n",
       "<table border=\"1\" class=\"dataframe\">\n",
       "  <thead>\n",
       "    <tr style=\"text-align: right;\">\n",
       "      <th></th>\n",
       "      <th>pickup_date</th>\n",
       "      <th>max_trip_distance</th>\n",
       "    </tr>\n",
       "  </thead>\n",
       "  <tbody>\n",
       "    <tr>\n",
       "      <th>0</th>\n",
       "      <td>2019-10-31</td>\n",
       "      <td>515.89</td>\n",
       "    </tr>\n",
       "    <tr>\n",
       "      <th>1</th>\n",
       "      <td>2019-10-11</td>\n",
       "      <td>95.78</td>\n",
       "    </tr>\n",
       "    <tr>\n",
       "      <th>2</th>\n",
       "      <td>2019-10-26</td>\n",
       "      <td>91.56</td>\n",
       "    </tr>\n",
       "    <tr>\n",
       "      <th>3</th>\n",
       "      <td>2019-10-24</td>\n",
       "      <td>90.75</td>\n",
       "    </tr>\n",
       "  </tbody>\n",
       "</table>\n",
       "</div>"
      ],
      "text/plain": [
       "  pickup_date  max_trip_distance\n",
       "0  2019-10-31             515.89\n",
       "1  2019-10-11              95.78\n",
       "2  2019-10-26              91.56\n",
       "3  2019-10-24              90.75"
      ]
     },
     "metadata": {},
     "output_type": "display_data"
    }
   ],
   "source": [
    "query_q_4 = text(\"\"\"\n",
    "    SELECT \n",
    "    CAST(lpep_pickup_datetime AS DATE) AS pickup_date, \n",
    "    MAX(trip_distance) AS max_trip_distance\n",
    "    FROM green_taxi_data \n",
    "    WHERE CAST(lpep_pickup_datetime AS DATE) IN \n",
    "        ('2019-10-11', '2019-10-24', '2019-10-26', '2019-10-31') \n",
    "    GROUP BY CAST(lpep_pickup_datetime AS DATE) \n",
    "    ORDER BY max_trip_distance DESC;\n",
    "\"\"\")\n",
    "\n",
    "with engine.connect() as connection:\n",
    "    result = connection.execute(query_q_4)\n",
    "    df = pd.DataFrame(result.fetchall(), columns=result.keys())\n",
    "    display(df)\n",
    "        \n",
    "        \n",
    "# Close connection\n",
    "connection.close()"
   ]
  },
  {
   "cell_type": "markdown",
   "metadata": {},
   "source": [
    "### Question 5. Three Biggest Pickup Zones\n",
    "\n",
    "Which were the top pickup locations with over 13,000 in total_amount (across all trips) for 2019-10-18?\n",
    "\n",
    "Consider only lpep_pickup_datetime when filtering by date.\n",
    "\n",
    "- East Harlem North, East Harlem South, Morningside Heights\n",
    "- East Harlem North, Morningside Heights\n",
    "- Morningside Heights, Astoria Park, East Harlem South\n",
    "- Bedford, East Harlem North, Astoria Park"
   ]
  },
  {
   "cell_type": "code",
   "execution_count": 17,
   "metadata": {},
   "outputs": [
    {
     "data": {
      "text/html": [
       "<div>\n",
       "<style scoped>\n",
       "    .dataframe tbody tr th:only-of-type {\n",
       "        vertical-align: middle;\n",
       "    }\n",
       "\n",
       "    .dataframe tbody tr th {\n",
       "        vertical-align: top;\n",
       "    }\n",
       "\n",
       "    .dataframe thead th {\n",
       "        text-align: right;\n",
       "    }\n",
       "</style>\n",
       "<table border=\"1\" class=\"dataframe\">\n",
       "  <thead>\n",
       "    <tr style=\"text-align: right;\">\n",
       "      <th></th>\n",
       "      <th>PULocationID</th>\n",
       "      <th>Zone</th>\n",
       "      <th>sum</th>\n",
       "    </tr>\n",
       "  </thead>\n",
       "  <tbody>\n",
       "    <tr>\n",
       "      <th>0</th>\n",
       "      <td>74</td>\n",
       "      <td>East Harlem North</td>\n",
       "      <td>18686.68</td>\n",
       "    </tr>\n",
       "    <tr>\n",
       "      <th>1</th>\n",
       "      <td>75</td>\n",
       "      <td>East Harlem South</td>\n",
       "      <td>16797.26</td>\n",
       "    </tr>\n",
       "    <tr>\n",
       "      <th>2</th>\n",
       "      <td>166</td>\n",
       "      <td>Morningside Heights</td>\n",
       "      <td>13029.79</td>\n",
       "    </tr>\n",
       "  </tbody>\n",
       "</table>\n",
       "</div>"
      ],
      "text/plain": [
       "   PULocationID                 Zone       sum\n",
       "0            74    East Harlem North  18686.68\n",
       "1            75    East Harlem South  16797.26\n",
       "2           166  Morningside Heights  13029.79"
      ]
     },
     "metadata": {},
     "output_type": "display_data"
    }
   ],
   "source": [
    "query_q_5 = text(\"\"\"\n",
    "    SELECT \"PULocationID\", zones.\"Zone\", SUM(green_taxi_data.total_amount)\n",
    "    FROM green_taxi_data\n",
    "    JOIN zones ON green_taxi_data.\"PULocationID\" = zones.\"LocationID\"\n",
    "    WHERE CAST(green_taxi_data.lpep_pickup_datetime AS DATE) = '2019-10-18'\n",
    "    GROUP BY \"PULocationID\", zones.\"Zone\"\n",
    "    HAVING SUM(green_taxi_data.total_amount) > 13000;\n",
    "\"\"\")\n",
    "\n",
    "with engine.connect() as connection:\n",
    "    result = connection.execute(query_q_5)\n",
    "    df = pd.DataFrame(result.fetchall(), columns=result.keys())\n",
    "    display(df)\n",
    "\n",
    "# Close connection\n",
    "connection.close()"
   ]
  },
  {
   "cell_type": "markdown",
   "metadata": {},
   "source": [
    "### Question 6. Largest tip\n",
    "\n",
    "For the passengers picked up in October 2019 in the zone named \"East Harlem North,\" which was the drop-off zone that had the largest tip?\n",
    "\n",
    "Note: it's tip, not trip.\n",
    "\n",
    "We need the name of the zone, not the ID.\n",
    "\n",
    "- Yorkville West\n",
    "- JFK Airport\n",
    "- East Harlem North\n",
    "- East Harlem South"
   ]
  },
  {
   "cell_type": "code",
   "execution_count": 18,
   "metadata": {},
   "outputs": [
    {
     "data": {
      "text/html": [
       "<div>\n",
       "<style scoped>\n",
       "    .dataframe tbody tr th:only-of-type {\n",
       "        vertical-align: middle;\n",
       "    }\n",
       "\n",
       "    .dataframe tbody tr th {\n",
       "        vertical-align: top;\n",
       "    }\n",
       "\n",
       "    .dataframe thead th {\n",
       "        text-align: right;\n",
       "    }\n",
       "</style>\n",
       "<table border=\"1\" class=\"dataframe\">\n",
       "  <thead>\n",
       "    <tr style=\"text-align: right;\">\n",
       "      <th></th>\n",
       "      <th>DOZone</th>\n",
       "      <th>max_tip</th>\n",
       "    </tr>\n",
       "  </thead>\n",
       "  <tbody>\n",
       "    <tr>\n",
       "      <th>0</th>\n",
       "      <td>JFK Airport</td>\n",
       "      <td>87.3</td>\n",
       "    </tr>\n",
       "  </tbody>\n",
       "</table>\n",
       "</div>"
      ],
      "text/plain": [
       "        DOZone  max_tip\n",
       "0  JFK Airport     87.3"
      ]
     },
     "metadata": {},
     "output_type": "display_data"
    }
   ],
   "source": [
    "query_q_6 = text(\n",
    "    \"\"\"\n",
    "    SELECT \n",
    "        z2.\"Zone\" as \"DOZone\",\n",
    "        MAX(green_taxi_data.tip_amount) AS max_tip\n",
    "    FROM green_taxi_data\n",
    "    INNER JOIN zones z1 ON z1.\"LocationID\" = green_taxi_data.\"PULocationID\"\n",
    "    INNER JOIN zones z2 ON z2.\"LocationID\" = green_taxi_data.\"DOLocationID\"\n",
    "    WHERE z1.\"Zone\" = 'East Harlem North'\n",
    "    GROUP BY z2.\"LocationID\", z2.\"Zone\"\n",
    "    ORDER BY max_tip DESC\n",
    "    LIMIT 1;\n",
    "    \"\"\"\n",
    ")\n",
    "\n",
    "with engine.connect() as connection:\n",
    "    result = connection.execute(query_q_6)\n",
    "    df = pd.DataFrame(result.fetchall(), columns=result.keys())\n",
    "    display(df)\n",
    "\n",
    "# Close connection\n",
    "connection.close()"
   ]
  }
 ],
 "metadata": {
  "kernelspec": {
   "display_name": "Python 3 (ipykernel)",
   "language": "python",
   "name": "python3"
  },
  "language_info": {
   "codemirror_mode": {
    "name": "ipython",
    "version": 3
   },
   "file_extension": ".py",
   "mimetype": "text/x-python",
   "name": "python",
   "nbconvert_exporter": "python",
   "pygments_lexer": "ipython3",
   "version": "3.12.8"
  }
 },
 "nbformat": 4,
 "nbformat_minor": 2
}
